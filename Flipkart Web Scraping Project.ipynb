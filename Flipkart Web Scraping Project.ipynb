{
 "cells": [
  {
   "cell_type": "code",
   "execution_count": 1,
   "id": "90f8ca5c",
   "metadata": {},
   "outputs": [],
   "source": [
    "# import libraries \n",
    "\n",
    "from bs4 import BeautifulSoup\n",
    "import requests\n",
    "import time\n",
    "import datetime\n",
    "\n",
    "import smtplib"
   ]
  },
  {
   "cell_type": "code",
   "execution_count": 2,
   "id": "d4f49910",
   "metadata": {},
   "outputs": [
    {
     "name": "stdout",
     "output_type": "stream",
     "text": [
      "\n",
      "            Harry Potter Women Printed Round Neck Pure Cotton Maroon T-Shirt\n",
      "           \n",
      "\n",
      "             ₹599\n",
      "            \n"
     ]
    }
   ],
   "source": [
    "# Connect to Website and pull in data\n",
    "\n",
    "URL =\"https://www.flipkart.com/souled-store-printed-women-round-neck-maroon-t-shirt/p/itm1acb195b6f8f1?pid=TSHGG68TX4SNVECR&lid=LSTTSHGG68TX4SNVECRPG00XN&marketplace=FLIPKART&q=harry+potter+tshirt+for+women&store=clo%2Fash%2Fank%2Floi&srno=s_1_22&otracker=AS_QueryStore_OrganicAutoSuggest_1_19_na_na_na&otracker1=AS_QueryStore_OrganicAutoSuggest_1_19_na_na_na&fm=search-autosuggest&iid=abe34160-a1cf-46ef-937d-7d320c2ba776.TSHGG68TX4SNVECR.SEARCH&ppt=sp&ppn=sp&ssid=7lv02ort740000001712772560434&qH=d3dcbb6c1ad0b061\"\n",
    "headers = {\"User-Agent\": \"Mozilla/5.0 (Windows NT 10.0; Win64; x64) AppleWebKit/537.36 (KHTML, like Gecko) Chrome/123.0.0.0 Safari/537.36\", \"Accept-Encoding\":\"gzip, deflate\", \"Accept\":\"text/html,application/xhtml+xml,application/xml;q=0.9,*/*;q=0.8\", \"DNT\":\"1\",\"Connection\":\"close\", \"Upgrade-Insecure-Requests\":\"1\"}\n",
    "\n",
    "page = requests.get(URL, headers=headers)\n",
    "\n",
    "soup1 = BeautifulSoup(page.content, \"html.parser\")\n",
    "\n",
    "soup2 = BeautifulSoup(soup1.prettify(), \"html.parser\")\n",
    "\n",
    "title = soup2.find(class_ =\"B_NuCI\" ).get_text()\n",
    "\n",
    "price = soup2.find(class_ =\"_30jeq3 _16Jk6d\").get_text()\n",
    "\n",
    "\n",
    "print (title)\n",
    "print (price)\n",
    "\n"
   ]
  },
  {
   "cell_type": "code",
   "execution_count": 3,
   "id": "3b5557bd",
   "metadata": {},
   "outputs": [
    {
     "name": "stdout",
     "output_type": "stream",
     "text": [
      "Harry Potter Women Printed Round Neck Pure Cotton Maroon T-Shirt\n",
      "599\n"
     ]
    }
   ],
   "source": [
    "# Clean up the data a little bit\n",
    "\n",
    "price = price.strip()[1:]\n",
    "title = title.strip()\n",
    "\n",
    "print(title)\n",
    "print(price)"
   ]
  },
  {
   "cell_type": "code",
   "execution_count": 4,
   "id": "2ee494ea",
   "metadata": {},
   "outputs": [
    {
     "name": "stdout",
     "output_type": "stream",
     "text": [
      "2024-04-13\n"
     ]
    }
   ],
   "source": [
    "# Create a Timestamp for your output to track when data was collected\n",
    "\n",
    "import datetime\n",
    "\n",
    "today = datetime.date.today()\n",
    "\n",
    "print(today)"
   ]
  },
  {
   "cell_type": "code",
   "execution_count": 5,
   "id": "b1448f44",
   "metadata": {},
   "outputs": [],
   "source": [
    "# Create CSV and write headers and data into the file\n",
    "\n",
    "import csv \n",
    "\n",
    "header = ['Title', 'Price', 'Date']\n",
    "data = [title, price, today]\n",
    "\n",
    "with open('FlipkartWebScraperDataset.csv', 'w', newline='', encoding='UTF8') as f:\n",
    "    writer = csv.writer(f)\n",
    "    writer.writerow(header)\n",
    "    writer.writerow(data)\n",
    "    "
   ]
  },
  {
   "cell_type": "code",
   "execution_count": 6,
   "id": "f1995acb",
   "metadata": {},
   "outputs": [
    {
     "name": "stdout",
     "output_type": "stream",
     "text": [
      "                                               Title  Price        Date\n",
      "0  Harry Potter Women Printed Round Neck Pure Cot...    599  2024-04-13\n"
     ]
    }
   ],
   "source": [
    "import pandas as pd\n",
    "\n",
    "df = pd.read_csv(r'C:\\Users\\anann\\FlipkartWebScraperDataset.csv')\n",
    " \n",
    "print(df)"
   ]
  },
  {
   "cell_type": "code",
   "execution_count": 7,
   "id": "dad8235b",
   "metadata": {},
   "outputs": [],
   "source": [
    "import csv\n",
    "\n",
    "data = [title, price,today]\n",
    "\n",
    "#Now we are appending data to the csv\n",
    "\n",
    "with open('FlipkartWebScraperDataset.csv', 'a+', newline='', encoding='UTF8') as f:\n",
    "    writer = csv.writer(f)\n",
    "    writer.writerow(data)\n"
   ]
  },
  {
   "cell_type": "code",
   "execution_count": 8,
   "id": "a5aeefb3",
   "metadata": {},
   "outputs": [],
   "source": [
    "#Combine all of the above code into one function\n",
    "\n",
    "\n",
    "def check_price():\n",
    "    URL =\"https://www.flipkart.com/souled-store-printed-women-round-neck-maroon-t-shirt/p/itm1acb195b6f8f1?pid=TSHGG68TX4SNVECR&lid=LSTTSHGG68TX4SNVECRPG00XN&marketplace=FLIPKART&q=harry+potter+tshirt+for+women&store=clo%2Fash%2Fank%2Floi&srno=s_1_22&otracker=AS_QueryStore_OrganicAutoSuggest_1_19_na_na_na&otracker1=AS_QueryStore_OrganicAutoSuggest_1_19_na_na_na&fm=search-autosuggest&iid=abe34160-a1cf-46ef-937d-7d320c2ba776.TSHGG68TX4SNVECR.SEARCH&ppt=sp&ppn=sp&ssid=7lv02ort740000001712772560434&qH=d3dcbb6c1ad0b061\"\n",
    "    headers = {\"User-Agent\": \"Mozilla/5.0 (Windows NT 10.0; Win64; x64) AppleWebKit/537.36 (KHTML, like Gecko) Chrome/123.0.0.0 Safari/537.36\", \"Accept-Encoding\":\"gzip, deflate\", \"Accept\":\"text/html,application/xhtml+xml,application/xml;q=0.9,*/*;q=0.8\", \"DNT\":\"1\",\"Connection\":\"close\", \"Upgrade-Insecure-Requests\":\"1\"}\n",
    "\n",
    "    page = requests.get(URL, headers=headers)\n",
    "\n",
    "    soup1 = BeautifulSoup(page.content, \"html.parser\")\n",
    "\n",
    "    soup2 = BeautifulSoup(soup1.prettify(), \"html.parser\")\n",
    "\n",
    "    title = soup2.find(class_ =\"B_NuCI\" ).get_text()\n",
    "\n",
    "    price = soup2.find(class_ =\"_30jeq3 _16Jk6d\").get_text()\n",
    "\n",
    "    price = price.strip()[1:]\n",
    "    title = title.strip()\n",
    "\n",
    "\n",
    "    import datetime\n",
    "\n",
    "    today = datetime.date.today()\n",
    "    \n",
    "    import csv \n",
    "\n",
    "    header = ['Title', 'Price', 'Date']\n",
    "    data = [title, price, today]\n",
    "\n",
    "    with open('FlipkartWebScraperDataset.csv', 'a+', newline='', encoding='UTF8') as f:\n",
    "        writer = csv.writer(f)\n",
    "        writer.writerow(data)\n",
    "\n",
    "    if(int(price) < 500) :\n",
    "        send_mail()"
   ]
  },
  {
   "cell_type": "code",
   "execution_count": 9,
   "id": "be360f67",
   "metadata": {},
   "outputs": [
    {
     "ename": "KeyboardInterrupt",
     "evalue": "",
     "output_type": "error",
     "traceback": [
      "\u001b[1;31m---------------------------------------------------------------------------\u001b[0m",
      "\u001b[1;31mKeyboardInterrupt\u001b[0m                         Traceback (most recent call last)",
      "Cell \u001b[1;32mIn[9], line 5\u001b[0m\n\u001b[0;32m      3\u001b[0m \u001b[38;5;28;01mwhile\u001b[39;00m(\u001b[38;5;28;01mTrue\u001b[39;00m):\n\u001b[0;32m      4\u001b[0m     check_price()\n\u001b[1;32m----> 5\u001b[0m     time\u001b[38;5;241m.\u001b[39msleep(\u001b[38;5;241m5\u001b[39m)\n",
      "\u001b[1;31mKeyboardInterrupt\u001b[0m: "
     ]
    }
   ],
   "source": [
    "# Runs check_price after a set time and inputs data into your CSV\n",
    "\n",
    "while(True):\n",
    "    check_price()\n",
    "    time.sleep(5)"
   ]
  },
  {
   "cell_type": "code",
   "execution_count": 10,
   "id": "591fe52d",
   "metadata": {},
   "outputs": [
    {
     "name": "stdout",
     "output_type": "stream",
     "text": [
      "                                                Title  Price        Date\n",
      "0   Harry Potter Women Printed Round Neck Pure Cot...    599  2024-04-13\n",
      "1   Harry Potter Women Printed Round Neck Pure Cot...    599  2024-04-13\n",
      "2   Harry Potter Women Printed Round Neck Pure Cot...    599  2024-04-13\n",
      "3   Harry Potter Women Printed Round Neck Pure Cot...    599  2024-04-13\n",
      "4   Harry Potter Women Printed Round Neck Pure Cot...    599  2024-04-13\n",
      "5   Harry Potter Women Printed Round Neck Pure Cot...    599  2024-04-13\n",
      "6   Harry Potter Women Printed Round Neck Pure Cot...    599  2024-04-13\n",
      "7   Harry Potter Women Printed Round Neck Pure Cot...    599  2024-04-13\n",
      "8   Harry Potter Women Printed Round Neck Pure Cot...    599  2024-04-13\n",
      "9   Harry Potter Women Printed Round Neck Pure Cot...    599  2024-04-13\n",
      "10  Harry Potter Women Printed Round Neck Pure Cot...    599  2024-04-13\n"
     ]
    }
   ],
   "source": [
    "import pandas as pd\n",
    "\n",
    "df = pd.read_csv(r'C:\\Users\\anann\\FlipkartWebScraperDataset.csv')\n",
    " \n",
    "print(df)"
   ]
  },
  {
   "cell_type": "code",
   "execution_count": null,
   "id": "47686ef7",
   "metadata": {},
   "outputs": [],
   "source": [
    "# If uou want to try sending yourself an email (just for fun) when a price hits below a certain level you can try it\n",
    "# out with this script\n",
    "\n",
    "def send_mail():\n",
    "    server = smtplib.SMTP_SSL('smtp.gmail.com',465)\n",
    "    server.ehlo()\n",
    "    #server.starttls()\n",
    "    server.ehlo()\n",
    "    server.login('anannyam@gmail.com','xxxxxxxxxxxxxx')\n",
    "    \n",
    "    subject = \"The Shirt you want is below ₹500! Now is your chance to buy!\"\n",
    "    body = \"Anannya, This is the moment we have been waiting for. Now is your chance to pick up the shirt of your dreams. Don't mess it up! Link here: 'https://www.flipkart.com/souled-store-printed-women-round-neck-maroon-t-shirt/p/itm1acb195b6f8f1?pid=TSHGG68TX4SNVECR&lid=LSTTSHGG68TX4SNVECRPG00XN&marketplace=FLIPKART&q=harry+potter+tshirt+for+women&store=clo%2Fash%2Fank%2Floi&srno=s_1_22&otracker=AS_QueryStore_OrganicAutoSuggest_1_19_na_na_na&otracker1=AS_QueryStore_OrganicAutoSuggest_1_19_na_na_na&fm=search-autosuggest&iid=abe34160-a1cf-46ef-937d-7d320c2ba776.TSHGG68TX4SNVECR.SEARCH&ppt=sp&ppn=sp&ssid=7lv02ort740000001712772560434&qH=d3dcbb6c1ad0b061%22' \n",
    "   \n",
    "    msg = f\"Subject: {subject}\\n\\n{body}\"\n",
    "    \n",
    "    server.sendmail(\n",
    "        'anannyam9@gmail.com',\n",
    "        msg"
   ]
  }
 ],
 "metadata": {
  "kernelspec": {
   "display_name": "Python 3 (ipykernel)",
   "language": "python",
   "name": "python3"
  },
  "language_info": {
   "codemirror_mode": {
    "name": "ipython",
    "version": 3
   },
   "file_extension": ".py",
   "mimetype": "text/x-python",
   "name": "python",
   "nbconvert_exporter": "python",
   "pygments_lexer": "ipython3",
   "version": "3.11.3"
  }
 },
 "nbformat": 4,
 "nbformat_minor": 5
}
